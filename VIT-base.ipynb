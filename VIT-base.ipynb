{
 "cells": [
  {
   "cell_type": "code",
   "execution_count": 1,
   "metadata": {},
   "outputs": [],
   "source": [
    "import os\n",
    "os.environ['TF_CPP_MIN_LOG_LEVEL'] = '2'"
   ]
  },
  {
   "cell_type": "code",
   "execution_count": 2,
   "metadata": {},
   "outputs": [
    {
     "name": "stderr",
     "output_type": "stream",
     "text": [
      "2024-02-19 06:01:01.431907: E external/local_xla/xla/stream_executor/cuda/cuda_dnn.cc:9261] Unable to register cuDNN factory: Attempting to register factory for plugin cuDNN when one has already been registered\n",
      "2024-02-19 06:01:01.432020: E external/local_xla/xla/stream_executor/cuda/cuda_fft.cc:607] Unable to register cuFFT factory: Attempting to register factory for plugin cuFFT when one has already been registered\n",
      "2024-02-19 06:01:01.596430: E external/local_xla/xla/stream_executor/cuda/cuda_blas.cc:1515] Unable to register cuBLAS factory: Attempting to register factory for plugin cuBLAS when one has already been registered\n"
     ]
    },
    {
     "name": "stdout",
     "output_type": "stream",
     "text": [
      "Using TensorFlow backend\n"
     ]
    }
   ],
   "source": [
    "import tensorflow as tf\n",
    "import tensorflow_hub as hub\n",
    "import tensorflow_text as text\n",
    "from tensorflow import keras\n",
    "from tensorflow.keras import layers\n",
    "from tensorflow.keras.models import Model\n",
    "from tensorflow.keras.layers import TextVectorization\n",
    "from tensorflow.keras.utils import Progbar\n",
    "from transformers import AutoTokenizer\n",
    "from tensorflow.keras import backend as K\n",
    "from keras_nlp.layers import TransformerEncoder, TransformerDecoder\n",
    "\n",
    "import numpy as np\n",
    "import requests\n",
    "import io\n",
    "import pandas as pd\n",
    "import string\n",
    "import matplotlib.pyplot as plt\n",
    "\n",
    "from tqdm import tqdm\n",
    "from PIL import Image\n",
    "\n",
    "tf.compat.v1.logging.set_verbosity(tf.compat.v1.logging.ERROR)\n",
    "\n",
    "config = tf.compat.v1.ConfigProto()\n",
    "config.gpu_options.per_process_gpu_memory_fraction = 0.95 # Change this value as per requirement\n",
    "tf.compat.v1.keras.backend.set_session(tf.compat.v1.Session(config=config))"
   ]
  },
  {
   "cell_type": "code",
   "execution_count": 3,
   "metadata": {},
   "outputs": [],
   "source": [
    "image_shape = (100, 100, 3)\n",
    "\n",
    "\n",
    "def download_image_buffer(url):\n",
    "    img = None\n",
    "    try:\n",
    "        data = requests.get(url,headers={\"user-agent\": \"I am a valid user, please give me image\"}).content\n",
    "        img = Image.open(io.BytesIO(data))\n",
    "        img = img.resize(image_shape[:2])\n",
    "        img = np.array(img, dtype=np.float64)/255\n",
    "    except:\n",
    "        pass\n",
    "    \n",
    "    return img\n",
    "\n",
    "\n",
    "def load_img(path, shape):\n",
    "    img = keras.utils.load_img(path, color_mode=\"rgb\")\n",
    "    img = img.resize(shape)\n",
    "    return np.array(img, dtype=np.float64)/255\n",
    "\n",
    "\n",
    "learning_rate = 0.001\n",
    "weight_decay = 0.0001\n",
    "batch_size = 32\n",
    "num_epochs = 30\n",
    "image_size = 100 \n",
    "patch_size = 5 \n",
    "num_patches = (image_size // patch_size) ** 2\n",
    "projection_dim = 64\n",
    "num_heads = 4\n",
    "transformer_units = [\n",
    "    projection_dim * 2,\n",
    "    projection_dim,\n",
    "]  # Size of the transformer layers\n",
    "transformer_layers = 8\n",
    "mlp_head_units = [2048, 1024]  # Size of the dense layers of the final classifier"
   ]
  },
  {
   "cell_type": "code",
   "execution_count": 4,
   "metadata": {},
   "outputs": [],
   "source": [
    "sequence_length = 128\n",
    "tokenizer = AutoTokenizer.from_pretrained('bert-base-uncased')\n",
    "vocab_size = tokenizer.vocab_size"
   ]
  },
  {
   "cell_type": "code",
   "execution_count": 5,
   "metadata": {},
   "outputs": [],
   "source": [
    "def dict_map(img, tokenized_text):\n",
    "    return ({\n",
    "        \"image\": img,\n",
    "        \"text\": tokenized_text[:-1]\n",
    "    }, tokenized_text[1:])"
   ]
  },
  {
   "cell_type": "markdown",
   "metadata": {},
   "source": [
    "### load conceptual-12m dataset"
   ]
  },
  {
   "cell_type": "code",
   "execution_count": null,
   "metadata": {},
   "outputs": [],
   "source": [
    "# image_files = os.listdir(\"./datasets/conceptual-12m/images\")\n",
    "# image_idx = [int(item.split(\".\")[0]) for item in tqdm(image_files)]\n",
    "# image_idx[:5]\n",
    "\n",
    "# with open(\"./datasets/conceptual-12m/cc12m.tsv\", \"r\", encoding=\"utf-8\") as dataset_file:    \n",
    "#     urls, texts = [], []\n",
    "\n",
    "#     file_idx = 0\n",
    "\n",
    "#     for item in tqdm(dataset_file):\n",
    "#         url, text = item.split(\"\\t\")\n",
    "\n",
    "#         texts.append(text)\n",
    "\n",
    "# captions = [texts[i] for i in image_idx]\n",
    "\n",
    "# del texts, urls\n",
    "\n",
    "# captions[:5]\n",
    "\n",
    "# image_files = np.array(image_files, dtype=str)\n",
    "# captions = np.array(captions, dtype=str)\n",
    "\n",
    "# base_dir = \"./datasets/conceptual-12m/images/\""
   ]
  },
  {
   "cell_type": "code",
   "execution_count": null,
   "metadata": {},
   "outputs": [],
   "source": [
    "# def preprocess(path, text):\n",
    "#     path = path.numpy().decode('utf-8')\n",
    "#     text = text.numpy().decode('utf-8')\n",
    "\n",
    "#     img = load_img(base_dir + path, image_shape[:2])\n",
    "#     tokenized_text = np.array(tokenizer.encode(text, max_length=sequence_length, add_special_tokens=True, padding=\"max_length\", truncation=True))\n",
    "\n",
    "#     return img, tokenized_text\n"
   ]
  },
  {
   "cell_type": "code",
   "execution_count": null,
   "metadata": {},
   "outputs": [],
   "source": [
    "# batch_size = 32\n",
    "\n",
    "# dataset = (tf.data.Dataset.from_tensor_slices((image_files, captions))\n",
    "#            .shuffle(1000)\n",
    "#            .map(lambda filepath, caption: tf.py_function(preprocess, [filepath, caption], [tf.float64, tf.int32]))\n",
    "#            .map(dict_map)\n",
    "#            .batch(batch_size)\n",
    "#            .prefetch(tf.data.AUTOTUNE))"
   ]
  },
  {
   "cell_type": "markdown",
   "metadata": {},
   "source": [
    "### load flick-30k dataset"
   ]
  },
  {
   "cell_type": "code",
   "execution_count": 6,
   "metadata": {},
   "outputs": [],
   "source": [
    "def convert_to_int(item):\n",
    "    try:\n",
    "        return int(item)\n",
    "    except:\n",
    "        return -1"
   ]
  },
  {
   "cell_type": "code",
   "execution_count": 7,
   "metadata": {},
   "outputs": [
    {
     "data": {
      "text/plain": [
       "(31783,)"
      ]
     },
     "execution_count": 7,
     "metadata": {},
     "output_type": "execute_result"
    }
   ],
   "source": [
    "base_dir = \"./datasets/flickr30k_images/flickr30k_images/\"\n",
    "\n",
    "captions_df = pd.read_csv(\"./datasets/flickr30k_images/results.csv\", delimiter='|')\n",
    "captions_df = captions_df[captions_df[' comment_number'].apply(convert_to_int) == 0]\n",
    "\n",
    "image_files = captions_df['image_name'].to_numpy()\n",
    "captions = captions_df[' comment'].to_numpy()\n",
    "\n",
    "del captions_df\n",
    "\n",
    "image_files.shape"
   ]
  },
  {
   "cell_type": "code",
   "execution_count": 8,
   "metadata": {},
   "outputs": [],
   "source": [
    "def preprocess(path, text):\n",
    "    path = path.numpy().decode('utf-8')\n",
    "    text = text.numpy().decode('utf-8')\n",
    "\n",
    "    img = load_img(base_dir + path, image_shape[:2])\n",
    "    tokenized_text = np.array(tokenizer.encode(text, max_length=sequence_length, add_special_tokens=True, padding=\"max_length\", truncation=True), dtype=np.int32)\n",
    "\n",
    "    return img, tokenized_text\n"
   ]
  },
  {
   "cell_type": "code",
   "execution_count": 9,
   "metadata": {},
   "outputs": [
    {
     "name": "stdout",
     "output_type": "stream",
     "text": [
      "(30823,) (960,)\n"
     ]
    }
   ],
   "source": [
    "batch_size = 40\n",
    "\n",
    "split = 0.99\n",
    "DATASET_SIZE = len(image_files)\n",
    "split_idx = int(split * DATASET_SIZE)\n",
    "\n",
    "train_files, test_files = image_files[:-960], image_files[-960:]\n",
    "train_captions, test_captions = captions[:-960], captions[-960:]\n",
    "print(train_files.shape, test_files.shape)\n",
    "train_dataset = (tf.data.Dataset.from_tensor_slices((train_files, train_captions))\n",
    "           .shuffle(1000)\n",
    "           .map(lambda filepath, caption: tf.py_function(preprocess, [filepath, caption], [tf.float64, tf.int32]))\n",
    "           .map(dict_map)\n",
    "           .batch(batch_size)\n",
    "           .prefetch(tf.data.AUTOTUNE))\n",
    "\n",
    "validation_dataset = (tf.data.Dataset.from_tensor_slices((test_files, test_captions))\n",
    "           .shuffle(1000)\n",
    "           .map(lambda filepath, caption: tf.py_function(preprocess, [filepath, caption], [tf.float64, tf.int32]))\n",
    "           .map(dict_map)\n",
    "           .batch(batch_size)\n",
    "           .prefetch(tf.data.AUTOTUNE))"
   ]
  },
  {
   "cell_type": "markdown",
   "metadata": {},
   "source": [
    "### Modeling"
   ]
  },
  {
   "cell_type": "code",
   "execution_count": 10,
   "metadata": {},
   "outputs": [],
   "source": [
    "def mlp(x, hidden_units, dropout_rate):\n",
    "    for units in hidden_units:\n",
    "        x = layers.Dense(units, activation=tf.nn.gelu)(x)\n",
    "        x = layers.Dropout(dropout_rate)(x)\n",
    "    return x\n",
    "\n",
    "class Patches(layers.Layer):\n",
    "    def __init__(self, patch_size, num_patches, **kwargs):\n",
    "        super().__init__(**kwargs)\n",
    "        self.patch_size = patch_size\n",
    "        self.num_patches = num_patches\n",
    "\n",
    "    def call(self, images):\n",
    "        self._input = images\n",
    "        batch_size = tf.shape(images)[0]\n",
    "        patches_tensor = tf.image.extract_patches(\n",
    "            images=images,\n",
    "            sizes=[1, self.patch_size, self.patch_size, 1],\n",
    "            strides=[1, self.patch_size, self.patch_size, 1],\n",
    "            rates=[1, 1, 1, 1],\n",
    "            padding=\"VALID\",\n",
    "        )\n",
    "        patch_dims = patches_tensor.shape[-1]  # Dimension of each patch\n",
    "\n",
    "        patches_tensor = tf.reshape(patches_tensor, [batch_size, self.num_patches, patch_dims])\n",
    "        return patches_tensor\n",
    "\n",
    "class PatchEncoder(layers.Layer):\n",
    "    def __init__(self, num_patches, projection_dim, **kwargs):\n",
    "        super().__init__(**kwargs)\n",
    "        self.num_patches = num_patches\n",
    "        self.projection = layers.Dense(units=projection_dim)\n",
    "        self.position_embedding = layers.Embedding(\n",
    "            input_dim=num_patches, output_dim=projection_dim\n",
    "        )\n",
    "\n",
    "    def call(self, patch):\n",
    "        positions = tf.range(start=0, limit=self.num_patches, delta=1)\n",
    "        encoded = self.projection(patch) + self.position_embedding(positions)\n",
    "        return encoded\n",
    "\n",
    "\n",
    "class PositionalEmbedding(layers.Layer):\n",
    "    def __init__(self, sequence_length, vocab_size, embed_dim, **kwargs):\n",
    "        super().__init__(**kwargs)\n",
    "        self.token_embeddings = layers.Embedding(\n",
    "            input_dim=vocab_size, output_dim=embed_dim\n",
    "        )\n",
    "        self.position_embeddings = layers.Embedding(\n",
    "            input_dim=sequence_length, output_dim=embed_dim\n",
    "        )\n",
    "        self.sequence_length = sequence_length\n",
    "        self.vocab_size = vocab_size\n",
    "        self.embed_dim = embed_dim\n",
    "\n",
    "    def call(self, inputs):\n",
    "        self._input = inputs\n",
    "        length = tf.shape(inputs)[-1]\n",
    "        positions = tf.range(start=0, limit=length, delta=1)\n",
    "        embedded_tokens = self.token_embeddings(inputs)\n",
    "        embedded_positions = self.position_embeddings(positions)\n",
    "        return embedded_tokens + embedded_positions\n",
    "\n",
    "    def compute_mask(self, inputs, mask=None):\n",
    "        return tf.math.not_equal(inputs, 0)\n",
    "\n",
    "    def get_config(self):\n",
    "        config = super().get_config()\n",
    "        config.update(\n",
    "            {\n",
    "                \"sequence_length\": self.sequence_length,\n",
    "                \"vocab_size\": self.vocab_size,\n",
    "                \"embed_dim\": self.embed_dim,\n",
    "            }\n",
    "        )\n",
    "        return config"
   ]
  },
  {
   "cell_type": "code",
   "execution_count": 11,
   "metadata": {},
   "outputs": [],
   "source": [
    "class EncoderBlock(layers.Layer):\n",
    "    def __init__(self, \n",
    "                 num_heads, \n",
    "                 embedding_dims, \n",
    "                 hidden_layers, \n",
    "                 hidden_units=\"same\", \n",
    "                 attn_dropout=0.2, \n",
    "                 ff_dropout=0.2, \n",
    "                 epsilon=1e-5, **kwargs):\n",
    "        super().__init__(**kwargs)\n",
    "\n",
    "        self.num_heads = num_heads\n",
    "        self.embedding_dims = embedding_dims\n",
    "        self.hidden_layers = hidden_layers\n",
    "        self.hidden_units = hidden_units if hidden_units != \"same\" else embedding_dims\n",
    "        self.attn = layers.MultiHeadAttention(\n",
    "            num_heads=num_heads,\n",
    "            key_dim=embedding_dims,\n",
    "            dropout=attn_dropout\n",
    "        )\n",
    "        self.attn_norm = layers.LayerNormalization(epsilon=epsilon)\n",
    "        self.ff = []\n",
    "\n",
    "        for _ in range(hidden_layers):\n",
    "            self.ff.append(layers.Dense(\n",
    "                self.hidden_units,\n",
    "                activation=tf.nn.gelu\n",
    "            ))\n",
    "            self.ff.append(layers.Dropout(ff_dropout))\n",
    "\n",
    "        self.ff = keras.Sequential(self.ff)\n",
    "        self.ff_norm = layers.LayerNormalization()\n",
    "    \n",
    "    def call(self, inputs, mask=None):\n",
    "        attn_output, attn_score = self.attn(\n",
    "            query=inputs,\n",
    "            key=inputs,\n",
    "            value=inputs,\n",
    "            attention_mask=mask,\n",
    "            return_attention_scores=True\n",
    "        )\n",
    "\n",
    "        attn_output_norm = self.attn_norm(inputs + attn_output)\n",
    "\n",
    "        x = self.ff(attn_output_norm)\n",
    "        \n",
    "        ff_output = self.ff_norm(attn_output + x)\n",
    "\n",
    "        self.attn_score = attn_score\n",
    "        \n",
    "        return {\n",
    "            \"ff_output\": ff_output,\n",
    "            \"attn_output\": attn_score\n",
    "        }\n",
    "\n",
    "    def get_config(self):\n",
    "        config = super().get_config()\n",
    "        config.update(\n",
    "            {\n",
    "                \"embedding_dim\": self.embedding_dims,\n",
    "                \"num_heads\": self.num_heads,\n",
    "                \"ff_hidden_layers\": self.hidden_layers,\n",
    "                \"ff_hidden_units\": self.hidden_units\n",
    "            }\n",
    "        )\n",
    "        return config"
   ]
  },
  {
   "cell_type": "code",
   "execution_count": 12,
   "metadata": {},
   "outputs": [],
   "source": [
    "class DecoderBlock(layers.Layer):\n",
    "    def __init__(self, \n",
    "                 num_heads_self, \n",
    "                 embedding_dims_self, \n",
    "                 hidden_layers, \n",
    "                 hidden_units=\"same\", \n",
    "                 num_heads_cross=\"same\", \n",
    "                 embedding_dims_cross=\"same\", \n",
    "                 attn_dropout=0.2, \n",
    "                 ff_dropout=0.2, \n",
    "                 epsilon=1e-5, **kwargs):\n",
    "        super().__init__(**kwargs)\n",
    "\n",
    "        self.num_heads = num_heads\n",
    "        self.embedding_dims = embedding_dims_self\n",
    "        self.hidden_layers = hidden_layers\n",
    "        self.hidden_units = hidden_units if hidden_units != \"same\" else embedding_dims_self\n",
    "        self.num_heads_cross = num_heads_cross if num_heads_cross != \"same\" else num_heads_self\n",
    "        self.embedding_dims_cross = embedding_dims_cross if embedding_dims_cross != \"same\" else embedding_dims_self\n",
    "\n",
    "        self.self_attn = layers.MultiHeadAttention(\n",
    "            num_heads=num_heads_self, \n",
    "            key_dim=embedding_dims_self,\n",
    "            dropout=attn_dropout,\n",
    "            name=\"Self-attn-decoder\"\n",
    "        )\n",
    "        self.self_norm = layers.LayerNormalization(epsilon=epsilon)\n",
    "\n",
    "        self.cross_attn = layers.MultiHeadAttention(\n",
    "            num_heads=self.num_heads_cross, \n",
    "            key_dim=self.embedding_dims_cross,\n",
    "            dropout=attn_dropout,\n",
    "            name=\"cross-attn-decoder\"\n",
    "        )\n",
    "        self.cross_norm = layers.LayerNormalization()\n",
    "        \n",
    "        self.ff = []\n",
    "\n",
    "        for _ in range(hidden_layers):\n",
    "            self.ff.append(layers.Dense(\n",
    "                self.hidden_units,\n",
    "                activation=tf.nn.gelu\n",
    "            ))\n",
    "            self.ff.append(layers.Dropout(ff_dropout))\n",
    "\n",
    "        self.ff = keras.Sequential(self.ff)\n",
    "        self.ff_norm = layers.LayerNormalization()\n",
    "        self.add = layers.Add()  # instead of `+` to preserve mask\n",
    "        self.supports_masking = True\n",
    "\n",
    "    def call(self, inputs, encoder_outputs, mask=None):\n",
    "        self_attn_output = self.self_attn(\n",
    "            query=inputs, \n",
    "            key=inputs, \n",
    "            value=inputs, \n",
    "            use_causal_mask=True, \n",
    "            # attention_mask=mask\n",
    "        )\n",
    "        self_attn_output = self.self_norm(self.add([inputs, self_attn_output]))\n",
    "\n",
    "        cross_attn_output = self.cross_attn(\n",
    "            query=self_attn_output, \n",
    "            key=encoder_outputs, \n",
    "            value=encoder_outputs,\n",
    "            use_causal_mask=True\n",
    "        )\n",
    "        cross_attn_output = self.cross_norm(self.add([self_attn_output, cross_attn_output]))\n",
    "\n",
    "        ff_output = self.ff(cross_attn_output)\n",
    "        ff_output = self.ff_norm(self.add([ff_output, cross_attn_output]))\n",
    "\n",
    "        return ff_output\n",
    "    \n",
    "    def get_config(self):\n",
    "        config = super().get_config()\n",
    "        config.update(\n",
    "            {\n",
    "                \"embedding_dim\": self.embedding_dims,\n",
    "                \"embedding_dim_cross\": self.embedding_dims_cross,\n",
    "                \"num_heads\": self.num_heads,\n",
    "                \"num_heads_cross\": self.num_heads_cross,\n",
    "                \"ff_hidden_layers\": self.hidden_layers,\n",
    "                \"ff_hidden_units\": self.hidden_units\n",
    "            }\n",
    "        )\n",
    "        return config"
   ]
  },
  {
   "cell_type": "code",
   "execution_count": 13,
   "metadata": {},
   "outputs": [],
   "source": [
    "num_blocks_encoder = 3\n",
    "num_blocks_decoder = 3\n",
    "num_heads = 16\n",
    "embedding_dims = 128\n",
    "hidden_layers = 2\n",
    "projection_dim = 128\n",
    "attn_dropout=0.4\n",
    "ff_dropout=0.3"
   ]
  },
  {
   "cell_type": "code",
   "execution_count": 14,
   "metadata": {},
   "outputs": [],
   "source": [
    "image_input = layers.Input(shape=image_shape, name=\"image\")\n",
    "patches = Patches(patch_size, num_patches, name=\"patches\")(image_input)\n",
    "encoded_patches = PatchEncoder(num_patches, projection_dim, name=\"patch_encoder\")(patches)\n",
    "\n",
    "# attention_mask = layers.Input(shape=(sequence_length-1), name=\"attention_mask\")\n",
    "caption_input = layers.Input(shape=(sequence_length-1), name=\"text\")\n",
    "encoded_captions = PositionalEmbedding(sequence_length, vocab_size, embedding_dims, name=\"caption_encoder\")(caption_input)\n",
    "\n",
    "\n",
    "for _ in range(num_blocks_encoder):\n",
    "    encoded_patches = EncoderBlock(\n",
    "        num_heads,\n",
    "        embedding_dims,\n",
    "        hidden_layers,\n",
    "        epsilon=1e-3,\n",
    "        attn_dropout=attn_dropout,\n",
    "        ff_dropout=ff_dropout\n",
    "    )(encoded_patches)[\"ff_output\"]\n",
    "\n",
    "\n",
    "for _ in range(num_blocks_decoder):\n",
    "    encoded_captions = DecoderBlock(\n",
    "        num_heads,\n",
    "        embedding_dims,\n",
    "        hidden_layers,\n",
    "        epsilon=1e-3,\n",
    "        attn_dropout=attn_dropout,\n",
    "        ff_dropout=ff_dropout\n",
    "    )(encoded_captions, encoded_patches)\n",
    "\n",
    "top_layer = layers.Dense(1024, activation=tf.nn.gelu)(encoded_captions)\n",
    "top_layer = layers.Dense(vocab_size)(top_layer)\n",
    "\n",
    "test_model = Model(inputs=[image_input, caption_input], outputs=top_layer)"
   ]
  },
  {
   "cell_type": "code",
   "execution_count": 16,
   "metadata": {},
   "outputs": [
    {
     "name": "stdout",
     "output_type": "stream",
     "text": [
      "Model: \"model\"\n",
      "__________________________________________________________________________________________________\n",
      " Layer (type)                Output Shape                 Param #   Connected to                  \n",
      "==================================================================================================\n",
      " image (InputLayer)          [(None, 100, 100, 3)]        0         []                            \n",
      "                                                                                                  \n",
      " patches (Patches)           (None, 400, 75)              0         ['image[0][0]']               \n",
      "                                                                                                  \n",
      " patch_encoder (PatchEncode  (None, 400, 128)             60928     ['patches[0][0]']             \n",
      " r)                                                                                               \n",
      "                                                                                                  \n",
      " encoder_block (EncoderBloc  {'ff_output': (None, 400,    1088384   ['patch_encoder[0][0]']       \n",
      " k)                          128),                                                                \n",
      "                              'attn_output': (None, 16,                                           \n",
      "                              400, 400)}                                                          \n",
      "                                                                                                  \n",
      " text (InputLayer)           [(None, 127)]                0         []                            \n",
      "                                                                                                  \n",
      " encoder_block_1 (EncoderBl  {'ff_output': (None, 400,    1088384   ['encoder_block[0][1]']       \n",
      " ock)                        128),                                                                \n",
      "                              'attn_output': (None, 16,                                           \n",
      "                              400, 400)}                                                          \n",
      "                                                                                                  \n",
      " caption_encoder (Positiona  (None, 127, 128)             3923200   ['text[0][0]']                \n",
      " lEmbedding)                                                                                      \n",
      "                                                                                                  \n",
      " encoder_block_2 (EncoderBl  {'ff_output': (None, 400,    1088384   ['encoder_block_1[0][1]']     \n",
      " ock)                        128),                                                                \n",
      "                              'attn_output': (None, 16,                                           \n",
      "                              400, 400)}                                                          \n",
      "                                                                                                  \n",
      " decoder_block (DecoderBloc  (None, 127, 128)             2143488   ['caption_encoder[0][0]',     \n",
      " k)                                                                  'encoder_block_2[0][1]']     \n",
      "                                                                                                  \n",
      " decoder_block_1 (DecoderBl  (None, 127, 128)             2143488   ['decoder_block[0][0]',       \n",
      " ock)                                                                'encoder_block_2[0][1]']     \n",
      "                                                                                                  \n",
      " decoder_block_2 (DecoderBl  (None, 127, 128)             2143488   ['decoder_block_1[0][0]',     \n",
      " ock)                                                                'encoder_block_2[0][1]']     \n",
      "                                                                                                  \n",
      " dense_13 (Dense)            (None, 127, 1024)            132096    ['decoder_block_2[0][0]']     \n",
      "                                                                                                  \n",
      " dense_14 (Dense)            (None, 127, 30522)           3128505   ['dense_13[0][0]']            \n",
      "                                                          0                                       \n",
      "                                                                                                  \n",
      "==================================================================================================\n",
      "Total params: 45096890 (172.03 MB)\n",
      "Trainable params: 45096890 (172.03 MB)\n",
      "Non-trainable params: 0 (0.00 Byte)\n",
      "__________________________________________________________________________________________________\n"
     ]
    }
   ],
   "source": [
    "# consine_restart_schedule = keras.optimizers.schedules.CosineDecayRestarts(initial_learning_rate = 0.001,first_decay_steps = 500,alpha=0.5)\n",
    "lr_schedule = keras.optimizers.schedules.CosineDecay(\n",
    "    initial_learning_rate = 0.0001,\n",
    "    decay_steps = 1000,\n",
    "    alpha=0.5,\n",
    "    warmup_target=0.001,\n",
    "    warmup_steps=100\n",
    ")\n",
    "\n",
    "checkpoint_callback = keras.callbacks.ModelCheckpoint(\n",
    "    filepath=\"./checkpoints/\",\n",
    "    save_weights_only=True,\n",
    "    monitor='val_loss',\n",
    "    save_best_only=True,\n",
    "    save_freq='epoch'\n",
    ")\n",
    "\n",
    "test_model.compile(\n",
    "    optimizer=keras.optimizers.AdamW(learning_rate=lr_schedule),\n",
    "    loss=keras.losses.SparseCategoricalCrossentropy(from_logits=True),\n",
    "    metrics=[\"accuracy\", \n",
    "             keras.metrics.SparseTopKCategoricalAccuracy(k=20, name=\"top_20_accuracy\"), \n",
    "             keras.metrics.SparseTopKCategoricalAccuracy(k=10, name=\"top_10_accuracy\"), \n",
    "             keras.metrics.SparseTopKCategoricalAccuracy(k=5, name=\"top_5_accuracy\")],\n",
    ")\n",
    "test_model.summary()"
   ]
  },
  {
   "cell_type": "code",
   "execution_count": 20,
   "metadata": {},
   "outputs": [
    {
     "name": "stdout",
     "output_type": "stream",
     "text": [
      "771/771 [==============================] - 872s 1s/step - lr: 5.0000e-04 - loss: 2.8663 - accuracy: 0.3916 - top_20_accuracy: 0.8061 - top_10_accuracy: 0.7255 - top_5_accuracy: 0.6330\n",
      "24/24 [==============================] - 14s 597ms/step - val_loss: 4.0250 - val_accuracy: 0.3566 - val_top_20_accuracy: 0.7286 - val_top_10_accuracy: 0.6553 - val_top_5_accuracy: 0.5746\n",
      "\n",
      "771/771 [==============================] - 872s 1s/step - lr: 5.0000e-04 - loss: 2.8352 - accuracy: 0.3945 - top_20_accuracy: 0.8108 - top_10_accuracy: 0.7301 - top_5_accuracy: 0.6370\n",
      "24/24 [==============================] - 14s 597ms/step - val_loss: 4.0621 - val_accuracy: 0.3533 - val_top_20_accuracy: 0.7265 - val_top_10_accuracy: 0.6548 - val_top_5_accuracy: 0.5743\n",
      "\n",
      "771/771 [==============================] - 872s 1s/step - lr: 5.0000e-04 - loss: 2.8079 - accuracy: 0.3972 - top_20_accuracy: 0.8146 - top_10_accuracy: 0.7338 - top_5_accuracy: 0.6402\n",
      "24/24 [==============================] - 14s 597ms/step - val_loss: 4.0902 - val_accuracy: 0.3556 - val_top_20_accuracy: 0.7272 - val_top_10_accuracy: 0.6556 - val_top_5_accuracy: 0.5756\n",
      "\n",
      "771/771 [==============================] - 873s 1s/step - lr: 5.0000e-04 - loss: 2.7787 - accuracy: 0.3995 - top_20_accuracy: 0.8194 - top_10_accuracy: 0.7382 - top_5_accuracy: 0.6446\n",
      "24/24 [==============================] - 14s 600ms/step - val_loss: 4.1169 - val_accuracy: 0.3556 - val_top_20_accuracy: 0.7260 - val_top_10_accuracy: 0.6561 - val_top_5_accuracy: 0.5754\n",
      "\n",
      "771/771 [==============================] - 875s 1s/step - lr: 5.0000e-04 - loss: 2.7506 - accuracy: 0.4030 - top_20_accuracy: 0.8230 - top_10_accuracy: 0.7421 - top_5_accuracy: 0.6483\n",
      "24/24 [==============================] - 14s 599ms/step - val_loss: 4.1277 - val_accuracy: 0.3511 - val_top_20_accuracy: 0.7241 - val_top_10_accuracy: 0.6522 - val_top_5_accuracy: 0.5732\n",
      "\n",
      "771/771 [==============================] - 874s 1s/step - lr: 5.0000e-04 - loss: 2.7253 - accuracy: 0.4056 - top_20_accuracy: 0.8269 - top_10_accuracy: 0.7464 - top_5_accuracy: 0.6524\n",
      "24/24 [==============================] - 14s 599ms/step - val_loss: 4.1670 - val_accuracy: 0.3555 - val_top_20_accuracy: 0.7267 - val_top_10_accuracy: 0.6572 - val_top_5_accuracy: 0.5753\n",
      "\n",
      "771/771 [==============================] - 874s 1s/step - lr: 5.0000e-04 - loss: 2.7000 - accuracy: 0.4077 - top_20_accuracy: 0.8313 - top_10_accuracy: 0.7501 - top_5_accuracy: 0.6558\n",
      "24/24 [==============================] - 14s 600ms/step - val_loss: 4.1882 - val_accuracy: 0.3557 - val_top_20_accuracy: 0.7288 - val_top_10_accuracy: 0.6577 - val_top_5_accuracy: 0.5768\n",
      "\n",
      "771/771 [==============================] - 873s 1s/step - lr: 5.0000e-04 - loss: 2.6766 - accuracy: 0.4108 - top_20_accuracy: 0.8347 - top_10_accuracy: 0.7535 - top_5_accuracy: 0.6593\n",
      "24/24 [==============================] - 14s 599ms/step - val_loss: 4.1806 - val_accuracy: 0.3538 - val_top_20_accuracy: 0.7268 - val_top_10_accuracy: 0.6574 - val_top_5_accuracy: 0.5774\n",
      "\n",
      "771/771 [==============================] - 874s 1s/step - lr: 5.0000e-04 - loss: 2.6531 - accuracy: 0.4134 - top_20_accuracy: 0.8381 - top_10_accuracy: 0.7570 - top_5_accuracy: 0.6626\n",
      "24/24 [==============================] - 14s 603ms/step - val_loss: 4.2323 - val_accuracy: 0.3553 - val_top_20_accuracy: 0.7271 - val_top_10_accuracy: 0.6567 - val_top_5_accuracy: 0.5744\n",
      "\n",
      "771/771 [==============================] - 874s 1s/step - lr: 5.0000e-04 - loss: 2.6299 - accuracy: 0.4158 - top_20_accuracy: 0.8417 - top_10_accuracy: 0.7612 - top_5_accuracy: 0.6663\n",
      "24/24 [==============================] - 14s 599ms/step - val_loss: 4.2301 - val_accuracy: 0.3572 - val_top_20_accuracy: 0.7295 - val_top_10_accuracy: 0.6588 - val_top_5_accuracy: 0.5770\n",
      "\n",
      "771/771 [==============================] - 873s 1s/step - lr: 5.0000e-04 - loss: 2.6068 - accuracy: 0.4184 - top_20_accuracy: 0.8448 - top_10_accuracy: 0.7640 - top_5_accuracy: 0.6696\n",
      "24/24 [==============================] - 14s 599ms/step - val_loss: 4.2456 - val_accuracy: 0.3554 - val_top_20_accuracy: 0.7278 - val_top_10_accuracy: 0.6572 - val_top_5_accuracy: 0.5759\n",
      "\n",
      "771/771 [==============================] - 873s 1s/step - lr: 5.0000e-04 - loss: 2.5862 - accuracy: 0.4209 - top_20_accuracy: 0.8478 - top_10_accuracy: 0.7671 - top_5_accuracy: 0.6727\n",
      "24/24 [==============================] - 14s 598ms/step - val_loss: 4.2614 - val_accuracy: 0.3566 - val_top_20_accuracy: 0.7283 - val_top_10_accuracy: 0.6582 - val_top_5_accuracy: 0.5746\n",
      "\n",
      "771/771 [==============================] - 875s 1s/step - lr: 5.0000e-04 - loss: 2.5671 - accuracy: 0.4232 - top_20_accuracy: 0.8504 - top_10_accuracy: 0.7704 - top_5_accuracy: 0.6758\n",
      "24/24 [==============================] - 14s 602ms/step - val_loss: 4.2829 - val_accuracy: 0.3532 - val_top_20_accuracy: 0.7259 - val_top_10_accuracy: 0.6552 - val_top_5_accuracy: 0.5740\n",
      "\n",
      "771/771 [==============================] - 876s 1s/step - lr: 5.0000e-04 - loss: 2.5474 - accuracy: 0.4252 - top_20_accuracy: 0.8535 - top_10_accuracy: 0.7729 - top_5_accuracy: 0.6789\n",
      "24/24 [==============================] - 14s 599ms/step - val_loss: 4.3257 - val_accuracy: 0.3594 - val_top_20_accuracy: 0.7291 - val_top_10_accuracy: 0.6598 - val_top_5_accuracy: 0.5778\n",
      "\n",
      "771/771 [==============================] - 874s 1s/step - lr: 5.0000e-04 - loss: 2.5282 - accuracy: 0.4275 - top_20_accuracy: 0.8565 - top_10_accuracy: 0.7764 - top_5_accuracy: 0.6817\n",
      "24/24 [==============================] - 14s 600ms/step - val_loss: 4.3331 - val_accuracy: 0.3574 - val_top_20_accuracy: 0.7283 - val_top_10_accuracy: 0.6580 - val_top_5_accuracy: 0.5762\n",
      "\n",
      "771/771 [==============================] - 873s 1s/step - lr: 5.0000e-04 - loss: 2.5089 - accuracy: 0.4302 - top_20_accuracy: 0.8590 - top_10_accuracy: 0.7792 - top_5_accuracy: 0.6838\n",
      "24/24 [==============================] - 14s 598ms/step - val_loss: 4.3802 - val_accuracy: 0.3578 - val_top_20_accuracy: 0.7276 - val_top_10_accuracy: 0.6565 - val_top_5_accuracy: 0.5748\n",
      "\n",
      "771/771 [==============================] - 876s 1s/step - lr: 5.0000e-04 - loss: 2.4910 - accuracy: 0.4319 - top_20_accuracy: 0.8618 - top_10_accuracy: 0.7822 - top_5_accuracy: 0.6876\n",
      "24/24 [==============================] - 14s 600ms/step - val_loss: 4.4133 - val_accuracy: 0.3569 - val_top_20_accuracy: 0.7304 - val_top_10_accuracy: 0.6601 - val_top_5_accuracy: 0.5769\n",
      "\n",
      "771/771 [==============================] - 873s 1s/step - lr: 5.0000e-04 - loss: 2.4745 - accuracy: 0.4338 - top_20_accuracy: 0.8643 - top_10_accuracy: 0.7847 - top_5_accuracy: 0.6894\n",
      "24/24 [==============================] - 14s 598ms/step - val_loss: 4.4308 - val_accuracy: 0.3550 - val_top_20_accuracy: 0.7269 - val_top_10_accuracy: 0.6564 - val_top_5_accuracy: 0.5749\n",
      "\n",
      "771/771 [==============================] - 873s 1s/step - lr: 5.0000e-04 - loss: 2.4578 - accuracy: 0.4363 - top_20_accuracy: 0.8665 - top_10_accuracy: 0.7873 - top_5_accuracy: 0.6926\n",
      "24/24 [==============================] - 14s 597ms/step - val_loss: 4.4634 - val_accuracy: 0.3570 - val_top_20_accuracy: 0.7281 - val_top_10_accuracy: 0.6588 - val_top_5_accuracy: 0.5752\n",
      "\n",
      "771/771 [==============================] - 873s 1s/step - lr: 5.0000e-04 - loss: 2.4404 - accuracy: 0.4384 - top_20_accuracy: 0.8689 - top_10_accuracy: 0.7898 - top_5_accuracy: 0.6947\n",
      "24/24 [==============================] - 14s 599ms/step - val_loss: 4.4579 - val_accuracy: 0.3548 - val_top_20_accuracy: 0.7286 - val_top_10_accuracy: 0.6581 - val_top_5_accuracy: 0.5768\n",
      "\n",
      "771/771 [==============================] - 873s 1s/step - lr: 5.0000e-04 - loss: 2.4246 - accuracy: 0.4401 - top_20_accuracy: 0.8712 - top_10_accuracy: 0.7922 - top_5_accuracy: 0.6977\n",
      "24/24 [==============================] - 14s 598ms/step - val_loss: 4.4794 - val_accuracy: 0.3546 - val_top_20_accuracy: 0.7265 - val_top_10_accuracy: 0.6578 - val_top_5_accuracy: 0.5754\n",
      "\n",
      "771/771 [==============================] - 874s 1s/step - lr: 5.0000e-04 - loss: 2.4084 - accuracy: 0.4427 - top_20_accuracy: 0.8731 - top_10_accuracy: 0.7951 - top_5_accuracy: 0.7003\n",
      "24/24 [==============================] - 14s 598ms/step - val_loss: 4.5271 - val_accuracy: 0.3547 - val_top_20_accuracy: 0.7290 - val_top_10_accuracy: 0.6594 - val_top_5_accuracy: 0.5772\n",
      "\n",
      "771/771 [==============================] - 873s 1s/step - lr: 5.0000e-04 - loss: 2.3932 - accuracy: 0.4448 - top_20_accuracy: 0.8756 - top_10_accuracy: 0.7971 - top_5_accuracy: 0.7030\n",
      "24/24 [==============================] - 14s 596ms/step - val_loss: 4.5147 - val_accuracy: 0.3542 - val_top_20_accuracy: 0.7280 - val_top_10_accuracy: 0.6567 - val_top_5_accuracy: 0.5754\n",
      "\n",
      "771/771 [==============================] - 874s 1s/step - lr: 5.0000e-04 - loss: 2.3781 - accuracy: 0.4472 - top_20_accuracy: 0.8773 - top_10_accuracy: 0.7993 - top_5_accuracy: 0.7049\n",
      "24/24 [==============================] - 14s 600ms/step - val_loss: 4.5728 - val_accuracy: 0.3578 - val_top_20_accuracy: 0.7301 - val_top_10_accuracy: 0.6607 - val_top_5_accuracy: 0.5768\n",
      "\n",
      "771/771 [==============================] - 873s 1s/step - lr: 5.0000e-04 - loss: 2.3635 - accuracy: 0.4484 - top_20_accuracy: 0.8796 - top_10_accuracy: 0.8016 - top_5_accuracy: 0.7074\n",
      "24/24 [==============================] - 14s 599ms/step - val_loss: 4.5591 - val_accuracy: 0.3564 - val_top_20_accuracy: 0.7275 - val_top_10_accuracy: 0.6584 - val_top_5_accuracy: 0.5745\n",
      "\n",
      "771/771 [==============================] - 873s 1s/step - lr: 5.0000e-04 - loss: 2.3486 - accuracy: 0.4512 - top_20_accuracy: 0.8811 - top_10_accuracy: 0.8038 - top_5_accuracy: 0.7095\n",
      "24/24 [==============================] - 14s 598ms/step - val_loss: 4.5867 - val_accuracy: 0.3555 - val_top_20_accuracy: 0.7272 - val_top_10_accuracy: 0.6587 - val_top_5_accuracy: 0.5739\n",
      "\n",
      "771/771 [==============================] - 873s 1s/step - lr: 5.0000e-04 - loss: 2.3355 - accuracy: 0.4526 - top_20_accuracy: 0.8835 - top_10_accuracy: 0.8063 - top_5_accuracy: 0.7122\n",
      "24/24 [==============================] - 14s 599ms/step - val_loss: 4.5812 - val_accuracy: 0.3559 - val_top_20_accuracy: 0.7276 - val_top_10_accuracy: 0.6574 - val_top_5_accuracy: 0.5743\n",
      "\n",
      "771/771 [==============================] - 874s 1s/step - lr: 5.0000e-04 - loss: 2.3221 - accuracy: 0.4544 - top_20_accuracy: 0.8851 - top_10_accuracy: 0.8081 - top_5_accuracy: 0.7141\n",
      "24/24 [==============================] - 14s 597ms/step - val_loss: 4.6080 - val_accuracy: 0.3550 - val_top_20_accuracy: 0.7273 - val_top_10_accuracy: 0.6571 - val_top_5_accuracy: 0.5747\n",
      "\n",
      "771/771 [==============================] - 875s 1s/step - lr: 5.0000e-04 - loss: 2.3087 - accuracy: 0.4568 - top_20_accuracy: 0.8864 - top_10_accuracy: 0.8101 - top_5_accuracy: 0.7160\n",
      "24/24 [==============================] - 14s 603ms/step - val_loss: 4.6474 - val_accuracy: 0.3549 - val_top_20_accuracy: 0.7295 - val_top_10_accuracy: 0.6575 - val_top_5_accuracy: 0.5758\n",
      "\n",
      "771/771 [==============================] - 874s 1s/step - lr: 5.0000e-04 - loss: 2.2948 - accuracy: 0.4584 - top_20_accuracy: 0.8885 - top_10_accuracy: 0.8122 - top_5_accuracy: 0.7186\n",
      "24/24 [==============================] - 14s 601ms/step - val_loss: 4.6666 - val_accuracy: 0.3514 - val_top_20_accuracy: 0.7298 - val_top_10_accuracy: 0.6582 - val_top_5_accuracy: 0.5751\n",
      "\n"
     ]
    }
   ],
   "source": [
    "_callbacks = [checkpoint_callback]\n",
    "callbacks = tf.keras.callbacks.CallbackList(_callbacks, add_history=True, model=test_model)\n",
    "\n",
    "logs = {}\n",
    "callbacks.on_train_begin(logs=logs)\n",
    "\n",
    "for i in range(num_epochs):\n",
    "    train_dataset_iter = train_dataset.as_numpy_iterator()\n",
    "    validation_dataset_iter = validation_dataset.as_numpy_iterator()\n",
    "\n",
    "    callbacks.on_epoch_begin(i, logs=logs)\n",
    "    train_progbar = Progbar(len(train_dataset))\n",
    "\n",
    "    for step in range(len(train_dataset)):\n",
    "\n",
    "        batch_input, target = train_dataset_iter.next()\n",
    "        # callbacks.on_batch_begin(batch_input, logs=logs)\n",
    "\n",
    "        result = test_model.train_on_batch(batch_input, y=target, return_dict=True)\n",
    "\n",
    "        loss = result[\"loss\"]\n",
    "        accuracy = result['accuracy']\n",
    "\n",
    "        logs = result\n",
    "\n",
    "        train_progbar.update(step + 1, [(\"lr\", test_model.optimizer.learning_rate)]+[(k, v) for k,v in result.items()])\n",
    "\n",
    "    validation_progbar = Progbar(len(validation_dataset))\n",
    "\n",
    "    for step in range(len(validation_dataset)):\n",
    "\n",
    "        batch_input, target = validation_dataset_iter.next()\n",
    "\n",
    "        validation_result = test_model.test_on_batch(batch_input, y=target, return_dict=True)\n",
    "\n",
    "        validation_result = {f\"val_{key}\":value for key, value in validation_result.items()}\n",
    "        logs.update(validation_result)\n",
    "\n",
    "        validation_progbar.update(step + 1, [(k, v) for k,v in validation_result.items()])\n",
    "\n",
    "    callbacks.on_epoch_end(i, logs=logs)\n",
    "    \n",
    "    exit_flag=False\n",
    "\n",
    "    print()\n",
    "\n",
    "    with open('training-signals.txt', 'r') as signal:\n",
    "        exit_flag = next(signal) == \"STOP\"\n",
    "\n",
    "    if exit_flag:\n",
    "        with open('training-signals.txt', 'w') as signal:\n",
    "            signal.writelines(['GO'])\n",
    "        break\n",
    "\n",
    "callbacks.on_train_end(logs=logs)\n"
   ]
  },
  {
   "cell_type": "code",
   "execution_count": 18,
   "metadata": {},
   "outputs": [],
   "source": [
    "test_model.save_weights(\"./model_weights/flickr-2.h5\")"
   ]
  },
  {
   "cell_type": "code",
   "execution_count": 16,
   "metadata": {},
   "outputs": [],
   "source": [
    "test_model.load_weights(\"./model_weights/flickr-2.h5\")"
   ]
  },
  {
   "cell_type": "code",
   "execution_count": null,
   "metadata": {},
   "outputs": [],
   "source": [
    "example, target = train_dataset.as_numpy_iterator().next()"
   ]
  },
  {
   "cell_type": "code",
   "execution_count": null,
   "metadata": {},
   "outputs": [],
   "source": [
    "target"
   ]
  },
  {
   "cell_type": "code",
   "execution_count": null,
   "metadata": {},
   "outputs": [],
   "source": [
    "output = test_model(example)"
   ]
  },
  {
   "cell_type": "code",
   "execution_count": null,
   "metadata": {},
   "outputs": [],
   "source": [
    "loss=keras.losses.SparseCategoricalCrossentropy()"
   ]
  },
  {
   "cell_type": "code",
   "execution_count": null,
   "metadata": {},
   "outputs": [],
   "source": [
    "with tf.device(\"/cpu:0\"):\n",
    "    print(loss(target, output))"
   ]
  },
  {
   "cell_type": "markdown",
   "metadata": {},
   "source": [
    "# Sampling"
   ]
  },
  {
   "cell_type": "code",
   "execution_count": 17,
   "metadata": {},
   "outputs": [],
   "source": [
    "from PIL import Image\n",
    "from random import randint\n",
    "\n",
    "import matplotlib.pyplot as plt"
   ]
  },
  {
   "cell_type": "code",
   "execution_count": 18,
   "metadata": {},
   "outputs": [
    {
     "name": "stdout",
     "output_type": "stream",
     "text": [
      "30394:  A young boy in a green shirt is strapped in a harness climbing a rock wall .\n"
     ]
    },
    {
     "data": {
      "text/plain": [
       "<matplotlib.image.AxesImage at 0x7f99375ce020>"
      ]
     },
     "execution_count": 18,
     "metadata": {},
     "output_type": "execute_result"
    },
    {
     "data": {
      "image/png": "[encoded data removed]",
      "text/plain": [
       "<Figure size 640x480 with 1 Axes>"
      ]
     },
     "metadata": {},
     "output_type": "display_data"
    }
   ],
   "source": [
    "sample_idx = randint(0, len(train_files))\n",
    "image = load_img(base_dir+train_files[sample_idx], (100, 100))\n",
    "caption = train_captions[sample_idx]\n",
    "\n",
    "print(f\"{sample_idx}: {caption}\")\n",
    "plt.imshow(image)"
   ]
  },
  {
   "cell_type": "markdown",
   "metadata": {},
   "source": [
    "#### Top k sampling"
   ]
  },
  {
   "cell_type": "code",
   "execution_count": 20,
   "metadata": {},
   "outputs": [],
   "source": [
    "# Set layer activation for the last layer to be None so that we can scale top k sample after selecting the top k values\n",
    "test_model.layers[-1].activation=None"
   ]
  },
  {
   "cell_type": "code",
   "execution_count": 21,
   "metadata": {},
   "outputs": [],
   "source": [
    "\n",
    "def top_k_sample(top_k_logits, temperature=1.0):\n",
    "    \"\"\"\n",
    "    Perform top-k sampling with temperature on the top-k logits.\n",
    "\n",
    "    Parameters:\n",
    "    - top_k_logits: A 1D numpy array representing the top-k logits.\n",
    "    - temperature: A parameter controlling the level of randomness in sampling.\n",
    "\n",
    "    Returns:\n",
    "    - A sampled index.\n",
    "    \"\"\"\n",
    "\n",
    "    # Apply temperature to the logits\n",
    "    logits_with_temperature = top_k_logits / temperature\n",
    "\n",
    "    # Compute softmax to get probabilities\n",
    "    probabilities = np.exp(logits_with_temperature - np.max(logits_with_temperature))\n",
    "    probabilities /= np.sum(probabilities)\n",
    "\n",
    "    # Sample from the top-k probabilities\n",
    "    sampled_index = np.random.choice(np.arange(len(top_k_logits)), p=probabilities)\n",
    "\n",
    "    return sampled_index\n"
   ]
  },
  {
   "cell_type": "code",
   "execution_count": 29,
   "metadata": {},
   "outputs": [],
   "source": [
    "target_ids = tokenizer.encode_plus(caption, max_length=sequence_length, add_special_tokens=True, padding=\"max_length\", truncation=True, return_tensors='np')\n",
    "target_ids = target_ids['input_ids']\n",
    "\n",
    "initial_ids = tokenizer.encode_plus(\"[CLS]\", max_length=sequence_length-1, add_special_tokens=False, padding=\"max_length\", truncation=True, return_tensors='np')\n",
    "initial_tokens = initial_ids['input_ids']\n",
    "initial_mask = initial_ids['attention_mask']"
   ]
  },
  {
   "cell_type": "markdown",
   "metadata": {},
   "source": [
    "#### Top k sampling"
   ]
  },
  {
   "cell_type": "code",
   "execution_count": 35,
   "metadata": {},
   "outputs": [
    {
     "name": "stdout",
     "output_type": "stream",
     "text": [
      "[CLS] a, is. before for\r"
     ]
    },
    {
     "name": "stdout",
     "output_type": "stream",
     "text": [
      "[CLS] a, is. before for such six to as from is has. is, as'the has and and which [SEP]\r"
     ]
    }
   ],
   "source": [
    "k = 500\n",
    "\n",
    "sampled_ids = [initial_tokens[0][0]]\n",
    "\n",
    "attention_scores = {\n",
    "    4: [],\n",
    "    6: []\n",
    "}\n",
    "\n",
    "# for i in tqdm(range(sequence_length-1), f\"sampling for top {k}\"):\n",
    "for i in range(sequence_length-1):\n",
    "    logits = test_model(dict(image=np.array([image]), text=np.array(initial_tokens)), mask=initial_mask)[0][i]\n",
    "\n",
    "    for i in attention_scores.keys():\n",
    "        attention_scores[i].append(test_model.layers[i].attn_score)\n",
    "\n",
    "    top_k = tf.math.top_k(logits, k=k)\n",
    "\n",
    "    top_k_logits = top_k.values.numpy()\n",
    "    top_k_indices = top_k.indices.numpy()\n",
    "\n",
    "    sample = top_k_sample(top_k_logits, temperature=1)\n",
    "    sampled_id = top_k_indices[sample]\n",
    "\n",
    "    sampled_ids.append(sampled_id)\n",
    "    print(tokenizer.decode(sampled_ids), end='\\r')\n",
    "    try:\n",
    "        initial_tokens[:, i+1] = sampled_id\n",
    "    except:\n",
    "        break\n",
    "\n",
    "    if sampled_id == 102:\n",
    "        break"
   ]
  },
  {
   "cell_type": "markdown",
   "metadata": {},
   "source": [
    "#### Greedy sample"
   ]
  },
  {
   "cell_type": "code",
   "execution_count": 31,
   "metadata": {},
   "outputs": [
    {
     "name": "stdout",
     "output_type": "stream",
     "text": [
      "[CLS] a is is is is is. [SEP]\r"
     ]
    }
   ],
   "source": [
    "# Initialize the sampled_ids list with the initial tokens\n",
    "sampled_ids = [initial_tokens[0][0]]\n",
    "\n",
    "attention_scores = {\n",
    "    4: [],\n",
    "    6: []\n",
    "}\n",
    "# Loop through the sequence length - 1\n",
    "for i in range(sequence_length-1):\n",
    "    # Get the logits for the current position\n",
    "    logits = test_model(dict(image=np.array([image]), text=np.array(initial_tokens)), mask=initial_mask)[0][i]\n",
    "    for i in attention_scores.keys():\n",
    "        attention_scores[i].append(test_model.layers[i].attn_score)\n",
    "    # Get the index of the token with the highest probability (greedy search)\n",
    "    sampled_id = tf.argmax(tf.math.softmax(logits), axis=-1).numpy()\n",
    "\n",
    "    # Append the sampled token to the sampled_ids list\n",
    "    sampled_ids.append(sampled_id)\n",
    "    print(tokenizer.decode(sampled_ids), end='\\r')\n",
    "\n",
    "    # Update the initial_tokens with the sampled token for the next iteration\n",
    "    try:\n",
    "        initial_tokens[:, i+1] = sampled_id\n",
    "    except:\n",
    "        break\n",
    "\n",
    "    # Break the loop if the end token is generated\n",
    "    if sampled_id == 102:\n",
    "        break\n"
   ]
  },
  {
   "cell_type": "code",
   "execution_count": 34,
   "metadata": {},
   "outputs": [
    {
     "data": {
      "text/plain": [
       "1998"
      ]
     },
     "execution_count": 34,
     "metadata": {},
     "output_type": "execute_result"
    }
   ],
   "source": [
    "sampled_id"
   ]
  },
  {
   "cell_type": "code",
   "execution_count": 36,
   "metadata": {},
   "outputs": [
    {
     "data": {
      "text/plain": [
       "'and'"
      ]
     },
     "execution_count": 36,
     "metadata": {},
     "output_type": "execute_result"
    }
   ],
   "source": [
    "tokenizer.decode(1998)"
   ]
  },
  {
   "cell_type": "code",
   "execution_count": 43,
   "metadata": {},
   "outputs": [],
   "source": [
    "logits, idx = tf.math.top_k(logits, k=5)"
   ]
  },
  {
   "cell_type": "code",
   "execution_count": 46,
   "metadata": {},
   "outputs": [
    {
     "data": {
      "text/plain": [
       "<tf.Tensor: shape=(5,), dtype=float32, numpy=\n",
       "array([-16.659878, -20.213518, -21.97677 , -22.419638, -25.719751],\n",
       "      dtype=float32)>"
      ]
     },
     "execution_count": 46,
     "metadata": {},
     "output_type": "execute_result"
    }
   ],
   "source": [
    "logits/0.5"
   ]
  },
  {
   "cell_type": "code",
   "execution_count": 49,
   "metadata": {},
   "outputs": [
    {
     "data": {
      "text/plain": [
       "<BarContainer object of 5 artists>"
      ]
     },
     "execution_count": 49,
     "metadata": {},
     "output_type": "execute_result"
    },
    {
     "data": {
      "image/png": "[encoded data removed]",
      "text/plain": [
       "<Figure size 640x480 with 1 Axes>"
      ]
     },
     "metadata": {},
     "output_type": "display_data"
    }
   ],
   "source": [
    "plt.bar(range(5), tf.math.softmax(logits/0.5))"
   ]
  },
  {
   "cell_type": "code",
   "execution_count": 40,
   "metadata": {},
   "outputs": [
    {
     "data": {
      "text/plain": [
       "1998"
      ]
     },
     "execution_count": 40,
     "metadata": {},
     "output_type": "execute_result"
    }
   ],
   "source": [
    "tf.argmax(tf.math.softmax(logits), axis=-1).numpy()\n"
   ]
  },
  {
   "cell_type": "code",
   "execution_count": null,
   "metadata": {},
   "outputs": [],
   "source": [
    "test_model.layers[4].attn_score"
   ]
  },
  {
   "cell_type": "code",
   "execution_count": null,
   "metadata": {},
   "outputs": [],
   "source": [
    "top_k_logits = top_k_logits/0.4\n",
    "probs = tf.math.softmax(top_k_logits).numpy()\n",
    "np.argmax(np.random.multinomial(1, probs, 1))"
   ]
  }
 ],
 "metadata": {
  "kernelspec": {
   "display_name": "Python 3 (ipykernel)",
   "language": "python",
   "name": "python3"
  },
  "language_info": {
   "codemirror_mode": {
    "name": "ipython",
    "version": 3
   },
   "file_extension": ".py",
   "mimetype": "text/x-python",
   "name": "python",
   "nbconvert_exporter": "python",
   "pygments_lexer": "ipython3",
   "version": "3.9.18"
  },
  "orig_nbformat": 4
 },
 "nbformat": 4,
 "nbformat_minor": 2
}
