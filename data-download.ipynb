{
 "cells": [
  {
   "cell_type": "code",
   "execution_count": 37,
   "metadata": {},
   "outputs": [],
   "source": [
    "import pandas as pd\n",
    "import requests\n",
    "import io\n",
    "import threading\n",
    "from PIL import Image\n",
    "import numpy as np\n",
    "from random import randint\n",
    "from multiprocessing import Pool\n",
    "from tqdm import tqdm"
   ]
  },
  {
   "cell_type": "code",
   "execution_count": null,
   "metadata": {},
   "outputs": [],
   "source": [
    "with open(\"./datasets/conceptual-12m/cc12m.tsv\", \"r\", encoding=\"utf-8\") as dataset_file:\n",
    "    urls, texts = [], []\n",
    "\n",
    "    for i, item in enumerate(tqdm(dataset_file, total=12423374)):\n",
    "        url, text = item.split(\"\\t\")\n",
    "\n",
    "        urls.append(url)\n",
    "        texts.append(text)"
   ]
  },
  {
   "cell_type": "code",
   "execution_count": null,
   "metadata": {},
   "outputs": [],
   "source": [
    "urls = pd.DataFrame({\n",
    "    \"url\": urls,\n",
    "    \"caption\": texts\n",
    "})"
   ]
  },
  {
   "cell_type": "code",
   "execution_count": 32,
   "metadata": {},
   "outputs": [],
   "source": [
    "urls[\"filename\"] = [\"-1\"] * len(urls)"
   ]
  },
  {
   "cell_type": "code",
   "execution_count": 38,
   "metadata": {},
   "outputs": [],
   "source": [
    "def download_image_buffer(i, url):\n",
    "    global urls\n",
    "    try:\n",
    "        data = requests.get(url, headers={\"user-agent\": \"I am a valid user, please give me image\"}).content\n",
    "        img = Image.open(io.BytesIO(data))\n",
    "        filename = f\"{i}.jpg\"\n",
    "        img.save(f\"./datasets/conceptual-12m/images/{filename}\")\n",
    "    except:\n",
    "        filename = \"unavailable\"\n",
    "    \n",
    "    urls.loc[i, \"filename\"] = filename"
   ]
  },
  {
   "cell_type": "code",
   "execution_count": null,
   "metadata": {},
   "outputs": [],
   "source": [
    "_max = 10000\n",
    "i = 0\n",
    "\n",
    "for i, url in enumerate(urls[\"url\"].values[:_max]):\n",
    "    if urls[\"filename\"][i] == \"-1\":\n",
    "        filename = download_image_buffer(i, url)\n",
    "        urls.loc[i, \"filename\"] = filename"
   ]
  }
 ],
 "metadata": {
  "kernelspec": {
   "display_name": "Python 3 (ipykernel)",
   "language": "python",
   "name": "python3"
  },
  "language_info": {
   "codemirror_mode": {
    "name": "ipython",
    "version": 3
   },
   "file_extension": ".py",
   "mimetype": "text/x-python",
   "name": "python",
   "nbconvert_exporter": "python",
   "pygments_lexer": "ipython3",
   "version": "3.10.0"
  },
  "orig_nbformat": 4
 },
 "nbformat": 4,
 "nbformat_minor": 2
}
